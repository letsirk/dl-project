{
 "cells": [
  {
   "cell_type": "markdown",
   "metadata": {
    "_uuid": "0c6224b2db42f8ac968015822923e692dced35db"
   },
   "source": [
    "# CNN Baseline - iWildCam 2019\n",
    "\n",
    "Breakdown of this notebook:\n",
    "1. **Loading the 32x32 dataset**: Load the data generated in *Reducing Image Sizes to 32x32*.\n",
    "2. **Create Callback for F1 Score**: F1-macro score is the official metric of the competition. We create a callback to keep track of that value as we train the model.\n",
    "3. **Creating and Training the Model**: Create a simple model (taken from the official Keras tutorial) and train it.\n",
    "4. **Evaluation**: Display the plots from the training history.\n",
    "5. **Submission**: Run predictions with `model.predict`, and create submission csv file.\n",
    "\n",
    "### References\n",
    "* [cifar10_cnn_keras.py](https://github.com/keras-team/keras/blob/master/examples/cifar10_cnn.py): Heavily inspired from this tutorial created by the Keras team. The architecture and training process is directly taken from them.\n",
    "* [Keras CNN Starter - PetFinder](https://www.kaggle.com/xhlulu/keras-cnn-starter-petfinder/): History plot and submission are inspired by this kernel\n",
    "* [Reducing Image Sizes to 32x32](https://www.kaggle.com/xhlulu/reducing-image-sizes-to-32x32): Image data (`X_train`, `X_test`) come from the output of this kernel.\n",
    "* [How to compute f1 score for each epoch in Keras](https://medium.com/@thongonary/how-to-compute-f1-score-for-each-epoch-in-keras-a1acd17715a2): Needed to compute the F1 Score after each epoch."
   ]
  },
  {
   "cell_type": "code",
   "execution_count": 2,
   "metadata": {
    "_cell_guid": "b1076dfc-b9ad-4769-8c92-a6c4dae69d19",
    "_uuid": "8f2839f25d086af736a60e9eeb907d3b93b6e0e5"
   },
   "outputs": [
    {
     "name": "stderr",
     "output_type": "stream",
     "text": [
      "Using TensorFlow backend.\n"
     ]
    }
   ],
   "source": [
    "import os\n",
    "import json\n",
    "\n",
    "import numpy as np\n",
    "import pandas as pd\n",
    "import keras\n",
    "from keras.callbacks import Callback\n",
    "from keras.datasets import cifar10\n",
    "from keras.preprocessing.image import ImageDataGenerator\n",
    "from keras.models import Sequential\n",
    "from keras.layers import Dense, Dropout, Activation, Flatten\n",
    "from keras.layers import Conv2D, MaxPooling2D\n",
    "from sklearn.metrics import confusion_matrix, f1_score, precision_score, recall_score\n",
    "from sklearn.model_selection import train_test_split"
   ]
  },
  {
   "cell_type": "code",
   "execution_count": 3,
   "metadata": {
    "_uuid": "8595f283fb90558f10bb93489016e826dc4a6544"
   },
   "outputs": [
    {
     "data": {
      "text/plain": [
       "['iwildcam-2019-fgvc6',\n",
       " 'reducing-image-sizes-to-32x32',\n",
       " 'test.csv',\n",
       " 'test_images',\n",
       " 'train.csv',\n",
       " 'train_images']"
      ]
     },
     "execution_count": 3,
     "metadata": {},
     "output_type": "execute_result"
    }
   ],
   "source": [
    "os.listdir('./input')"
   ]
  },
  {
   "cell_type": "markdown",
   "metadata": {
    "_uuid": "2302da2f218e50185e00059bfac60f1fca7d15e8"
   },
   "source": [
    "## 1. Loading the 32x32 dataset"
   ]
  },
  {
   "cell_type": "code",
   "execution_count": 12,
   "metadata": {
    "_uuid": "09ba8de2a6a103f86f51b9df4641013b335fdc78"
   },
   "outputs": [
    {
     "name": "stdout",
     "output_type": "stream",
     "text": [
      "x_train shape: (196299, 32, 32, 3)\n",
      "196299 train samples\n",
      "153730 test samples\n"
     ]
    }
   ],
   "source": [
    "# The data, split between train and test sets:\n",
    "x_train = np.load('./input/reducing-image-sizes-to-32x32/X_train.npy')\n",
    "x_test = np.load('./input/reducing-image-sizes-to-32x32/X_test.npy')\n",
    "y_train = np.load('./input/reducing-image-sizes-to-32x32/y_train.npy')\n",
    "\n",
    "print('x_train shape:', x_train.shape)\n",
    "print(x_train.shape[0], 'train samples')\n",
    "print(x_test.shape[0], 'test samples')"
   ]
  },
  {
   "cell_type": "code",
   "execution_count": 13,
   "metadata": {
    "_uuid": "98bcca14dbabfc710c45993990bbd6881c89923f"
   },
   "outputs": [],
   "source": [
    "# Convert the images to float and scale it to a range of 0 to 1\n",
    "x_train = x_train.astype('float32')\n",
    "x_test = x_test.astype('float32')\n",
    "x_train /= 255.\n",
    "x_test /= 255."
   ]
  },
  {
   "cell_type": "markdown",
   "metadata": {
    "_uuid": "a1b0ee5c2a6cf83e9a46d819cf6b83e9681a3b27"
   },
   "source": [
    "## 2. Create Callback for F1 score"
   ]
  },
  {
   "cell_type": "code",
   "execution_count": 6,
   "metadata": {
    "_uuid": "53289edcced35cb632b33c92431e0c69bfa70c53"
   },
   "outputs": [],
   "source": [
    "class Metrics(Callback):\n",
    "    def on_train_begin(self, logs={}):\n",
    "        self.val_f1s = []\n",
    "        self.val_recalls = []\n",
    "        self.val_precisions = []\n",
    "\n",
    "    def on_epoch_end(self, epoch, logs={}):\n",
    "        X_val, y_val = self.validation_data[:2]\n",
    "        y_pred = self.model.predict(X_val)\n",
    "\n",
    "        y_pred_cat = keras.utils.to_categorical(\n",
    "            y_pred.argmax(axis=1),\n",
    "            num_classes=num_classes\n",
    "        )\n",
    "\n",
    "        _val_f1 = f1_score(y_val, y_pred_cat, average='macro')\n",
    "        _val_recall = recall_score(y_val, y_pred_cat, average='macro')\n",
    "        _val_precision = precision_score(y_val, y_pred_cat, average='macro')\n",
    "\n",
    "        self.val_f1s.append(_val_f1)\n",
    "        self.val_recalls.append(_val_recall)\n",
    "        self.val_precisions.append(_val_precision)\n",
    "\n",
    "        print((f\"val_f1: {_val_f1:.4f}\"\n",
    "               f\" — val_precision: {_val_precision:.4f}\"\n",
    "               f\" — val_recall: {_val_recall:.4f}\"))\n",
    "\n",
    "        return"
   ]
  },
  {
   "cell_type": "markdown",
   "metadata": {
    "_uuid": "2bee5c9cd1102701aa9d937d52a9c06613e2a684"
   },
   "source": [
    "## 3. Creating and Training the Model"
   ]
  },
  {
   "cell_type": "code",
   "execution_count": 6,
   "metadata": {
    "_uuid": "3a4c15bf29543994a48a85f46de1234bbc22e7c8"
   },
   "outputs": [],
   "source": [
    "batch_size = 64\n",
    "num_classes = 14\n",
    "epochs = 30\n",
    "val_split = 0.1\n",
    "save_dir = os.path.join(os.getcwd(), 'models')\n",
    "model_name = 'keras_cnn_model.h5'"
   ]
  },
  {
   "cell_type": "code",
   "execution_count": 7,
   "metadata": {
    "_uuid": "5ea3ca0451ab0a997111fea9ef2d1f762bc3d517"
   },
   "outputs": [
    {
     "name": "stdout",
     "output_type": "stream",
     "text": [
      "WARNING:tensorflow:From C:\\Users\\kristela\\AppData\\Local\\Continuum\\anaconda3\\lib\\site-packages\\tensorflow\\python\\framework\\op_def_library.py:263: colocate_with (from tensorflow.python.framework.ops) is deprecated and will be removed in a future version.\n",
      "Instructions for updating:\n",
      "Colocations handled automatically by placer.\n",
      "WARNING:tensorflow:From C:\\Users\\kristela\\AppData\\Local\\Continuum\\anaconda3\\lib\\site-packages\\keras\\backend\\tensorflow_backend.py:3445: calling dropout (from tensorflow.python.ops.nn_ops) with keep_prob is deprecated and will be removed in a future version.\n",
      "Instructions for updating:\n",
      "Please use `rate` instead of `keep_prob`. Rate should be set to `rate = 1 - keep_prob`.\n"
     ]
    }
   ],
   "source": [
    "model = Sequential()\n",
    "model.add(Conv2D(32, (3, 3), padding='same',\n",
    "                 input_shape=x_train.shape[1:]))\n",
    "model.add(Activation('relu'))\n",
    "model.add(Conv2D(32, (3, 3)))\n",
    "model.add(Activation('relu'))\n",
    "model.add(MaxPooling2D(pool_size=(2, 2)))\n",
    "model.add(Dropout(0.25))\n",
    "\n",
    "model.add(Conv2D(64, (3, 3), padding='same'))\n",
    "model.add(Activation('relu'))\n",
    "model.add(Conv2D(64, (3, 3)))\n",
    "model.add(Activation('relu'))\n",
    "model.add(MaxPooling2D(pool_size=(2, 2)))\n",
    "model.add(Dropout(0.25))\n",
    "\n",
    "model.add(Flatten())\n",
    "model.add(Dense(512))\n",
    "model.add(Activation('relu'))\n",
    "model.add(Dropout(0.5))\n",
    "model.add(Dense(num_classes))\n",
    "model.add(Activation('softmax'))"
   ]
  },
  {
   "cell_type": "code",
   "execution_count": 9,
   "metadata": {
    "_uuid": "221a5db16b6f78ce3b3ac108db36f87043a67f2b",
    "scrolled": false
   },
   "outputs": [
    {
     "name": "stdout",
     "output_type": "stream",
     "text": [
      "WARNING:tensorflow:From C:\\Users\\kristela\\AppData\\Local\\Continuum\\anaconda3\\lib\\site-packages\\tensorflow\\python\\ops\\math_ops.py:3066: to_int32 (from tensorflow.python.ops.math_ops) is deprecated and will be removed in a future version.\n",
      "Instructions for updating:\n",
      "Use tf.cast instead.\n",
      "Train on 176669 samples, validate on 19630 samples\n",
      "Epoch 1/30\n",
      "176669/176669 [==============================] - 481s 3ms/step - loss: 0.7102 - acc: 0.7807 - val_loss: 0.4834 - val_acc: 0.8427\n"
     ]
    },
    {
     "name": "stderr",
     "output_type": "stream",
     "text": [
      "C:\\Users\\kristela\\AppData\\Local\\Continuum\\anaconda3\\lib\\site-packages\\sklearn\\metrics\\classification.py:1143: UndefinedMetricWarning: F-score is ill-defined and being set to 0.0 in labels with no predicted samples.\n",
      "  'precision', 'predicted', average, warn_for)\n",
      "C:\\Users\\kristela\\AppData\\Local\\Continuum\\anaconda3\\lib\\site-packages\\sklearn\\metrics\\classification.py:1143: UndefinedMetricWarning: Precision is ill-defined and being set to 0.0 in labels with no predicted samples.\n",
      "  'precision', 'predicted', average, warn_for)\n"
     ]
    },
    {
     "name": "stdout",
     "output_type": "stream",
     "text": [
      "val_f1: 0.5042 — val_precision: 0.5937 — val_recall: 0.4820\n",
      "Epoch 2/30\n",
      "176669/176669 [==============================] - 514s 3ms/step - loss: 0.5045 - acc: 0.8361 - val_loss: 0.4165 - val_acc: 0.8631\n",
      "val_f1: 0.5777 — val_precision: 0.6643 — val_recall: 0.5513\n",
      "Epoch 3/30\n",
      "176669/176669 [==============================] - 519s 3ms/step - loss: 0.4467 - acc: 0.8543 - val_loss: 0.3639 - val_acc: 0.8805\n",
      "val_f1: 0.6848 — val_precision: 0.7518 — val_recall: 0.6553\n",
      "Epoch 4/30\n",
      "176669/176669 [==============================] - 525s 3ms/step - loss: 0.4092 - acc: 0.8654 - val_loss: 0.3369 - val_acc: 0.8875\n",
      "val_f1: 0.7268 — val_precision: 0.7725 — val_recall: 0.7049\n",
      "Epoch 5/30\n",
      "176669/176669 [==============================] - 484s 3ms/step - loss: 0.3829 - acc: 0.8724 - val_loss: 0.3278 - val_acc: 0.8924\n",
      "val_f1: 0.7128 — val_precision: 0.7756 — val_recall: 0.6837\n",
      "Epoch 6/30\n",
      "176669/176669 [==============================] - 474s 3ms/step - loss: 0.3658 - acc: 0.8780 - val_loss: 0.3161 - val_acc: 0.8941\n",
      "val_f1: 0.7244 — val_precision: 0.7851 — val_recall: 0.6924\n",
      "Epoch 7/30\n",
      "176669/176669 [==============================] - 466s 3ms/step - loss: 0.3505 - acc: 0.8820 - val_loss: 0.2879 - val_acc: 0.9049\n",
      "val_f1: 0.7474 — val_precision: 0.8157 — val_recall: 0.7163\n",
      "Epoch 8/30\n",
      "176669/176669 [==============================] - 468s 3ms/step - loss: 0.3388 - acc: 0.8860 - val_loss: 0.2802 - val_acc: 0.9057\n",
      "val_f1: 0.7600 — val_precision: 0.7992 — val_recall: 0.7414\n",
      "Epoch 9/30\n",
      "176669/176669 [==============================] - 474s 3ms/step - loss: 0.3265 - acc: 0.8895 - val_loss: 0.2727 - val_acc: 0.9119\n",
      "val_f1: 0.7936 — val_precision: 0.8248 — val_recall: 0.7780\n",
      "Epoch 10/30\n",
      "176669/176669 [==============================] - 487s 3ms/step - loss: 0.3181 - acc: 0.8923 - val_loss: 0.2684 - val_acc: 0.9127\n",
      "val_f1: 0.7952 — val_precision: 0.8109 — val_recall: 0.7869\n",
      "Epoch 11/30\n",
      "176669/176669 [==============================] - 505s 3ms/step - loss: 0.3121 - acc: 0.8948 - val_loss: 0.2511 - val_acc: 0.9155\n",
      "val_f1: 0.8067 — val_precision: 0.8254 — val_recall: 0.7970\n",
      "Epoch 12/30\n",
      "176669/176669 [==============================] - 513s 3ms/step - loss: 0.3019 - acc: 0.8975 - val_loss: 0.2509 - val_acc: 0.9193\n",
      "val_f1: 0.7888 — val_precision: 0.8278 — val_recall: 0.7669\n",
      "Epoch 13/30\n",
      "176669/176669 [==============================] - 564s 3ms/step - loss: 0.2982 - acc: 0.8979 - val_loss: 0.2482 - val_acc: 0.9177\n",
      "val_f1: 0.8111 — val_precision: 0.8306 — val_recall: 0.7996\n",
      "Epoch 14/30\n",
      "176669/176669 [==============================] - 571s 3ms/step - loss: 0.2918 - acc: 0.8997 - val_loss: 0.2405 - val_acc: 0.9217\n",
      "val_f1: 0.8198 — val_precision: 0.8376 — val_recall: 0.8081\n",
      "Epoch 15/30\n",
      "176669/176669 [==============================] - 511s 3ms/step - loss: 0.2884 - acc: 0.9007 - val_loss: 0.2428 - val_acc: 0.9203\n",
      "val_f1: 0.8130 — val_precision: 0.8362 — val_recall: 0.7982\n",
      "Epoch 16/30\n",
      "176669/176669 [==============================] - 536s 3ms/step - loss: 0.2819 - acc: 0.9028 - val_loss: 0.2460 - val_acc: 0.9168\n",
      "val_f1: 0.8071 — val_precision: 0.8209 — val_recall: 0.7988\n",
      "Epoch 17/30\n",
      "176669/176669 [==============================] - 542s 3ms/step - loss: 0.2771 - acc: 0.9055 - val_loss: 0.2365 - val_acc: 0.9237\n",
      "val_f1: 0.8216 — val_precision: 0.8418 — val_recall: 0.8071\n",
      "Epoch 18/30\n",
      "176669/176669 [==============================] - 521s 3ms/step - loss: 0.2741 - acc: 0.9060 - val_loss: 0.2315 - val_acc: 0.9235 acc  - ETA: 4s - loss: 0.2739 - ETA: 1s - loss: 0.2740 - a\n",
      "val_f1: 0.8220 — val_precision: 0.8369 — val_recall: 0.8141\n",
      "Epoch 19/30\n",
      "176669/176669 [==============================] - 512s 3ms/step - loss: 0.2709 - acc: 0.9070 - val_loss: 0.2298 - val_acc: 0.9237\n",
      "val_f1: 0.8235 — val_precision: 0.8372 — val_recall: 0.8154\n",
      "Epoch 20/30\n",
      "176669/176669 [==============================] - 555s 3ms/step - loss: 0.2689 - acc: 0.9076 - val_loss: 0.2246 - val_acc: 0.9265\n",
      "val_f1: 0.8282 — val_precision: 0.8491 — val_recall: 0.8152\n",
      "Epoch 21/30\n",
      "176669/176669 [==============================] - 535s 3ms/step - loss: 0.2664 - acc: 0.9076 - val_loss: 0.2297 - val_acc: 0.9230 - lo\n",
      "val_f1: 0.8216 — val_precision: 0.8393 — val_recall: 0.8086\n",
      "Epoch 22/30\n",
      "176669/176669 [==============================] - 514s 3ms/step - loss: 0.2650 - acc: 0.9089 - val_loss: 0.2228 - val_acc: 0.9248\n",
      "val_f1: 0.8256 — val_precision: 0.8372 — val_recall: 0.8184\n",
      "Epoch 23/30\n",
      "176669/176669 [==============================] - 524s 3ms/step - loss: 0.2591 - acc: 0.9103 - val_loss: 0.2253 - val_acc: 0.9262\n",
      "val_f1: 0.8086 — val_precision: 0.8472 — val_recall: 0.7881\n",
      "Epoch 24/30\n",
      "176669/176669 [==============================] - 550s 3ms/step - loss: 0.2559 - acc: 0.9115 - val_loss: 0.2235 - val_acc: 0.9263\n",
      "val_f1: 0.8295 — val_precision: 0.8353 — val_recall: 0.8270\n",
      "Epoch 25/30\n",
      "176669/176669 [==============================] - 470s 3ms/step - loss: 0.2546 - acc: 0.9123 - val_loss: 0.2219 - val_acc: 0.9261\n",
      "val_f1: 0.8288 — val_precision: 0.8429 — val_recall: 0.8194\n",
      "Epoch 26/30\n",
      "176669/176669 [==============================] - 481s 3ms/step - loss: 0.2532 - acc: 0.9119 - val_loss: 0.2211 - val_acc: 0.9272\n",
      "val_f1: 0.8290 — val_precision: 0.8449 — val_recall: 0.8202\n",
      "Epoch 27/30\n",
      "176669/176669 [==============================] - 468s 3ms/step - loss: 0.2502 - acc: 0.9133 - val_loss: 0.2237 - val_acc: 0.9246\n",
      "val_f1: 0.8256 — val_precision: 0.8347 — val_recall: 0.8218\n",
      "Epoch 28/30\n",
      "176669/176669 [==============================] - 469s 3ms/step - loss: 0.2499 - acc: 0.9137 - val_loss: 0.2156 - val_acc: 0.9298\n",
      "val_f1: 0.8416 — val_precision: 0.8577 — val_recall: 0.8310\n",
      "Epoch 29/30\n",
      "176669/176669 [==============================] - 468s 3ms/step - loss: 0.2456 - acc: 0.9147 - val_loss: 0.2197 - val_acc: 0.9267\n",
      "val_f1: 0.8295 — val_precision: 0.8496 — val_recall: 0.8165\n",
      "Epoch 30/30\n",
      "176669/176669 [==============================] - 468s 3ms/step - loss: 0.2479 - acc: 0.9141 - val_loss: 0.2117 - val_acc: 0.9293\n",
      "val_f1: 0.8382 — val_precision: 0.8463 — val_recall: 0.8335\n"
     ]
    }
   ],
   "source": [
    "f1_metrics = Metrics()\n",
    "\n",
    "model.compile(\n",
    "    loss='categorical_crossentropy',\n",
    "    optimizer='adam',\n",
    "    metrics=['accuracy']\n",
    ")\n",
    "\n",
    "hist = model.fit(\n",
    "    x_train, \n",
    "    y_train,\n",
    "    batch_size=batch_size,\n",
    "    epochs=epochs,\n",
    "    callbacks=[f1_metrics],\n",
    "    validation_split=val_split,\n",
    "    shuffle=True\n",
    ")"
   ]
  },
  {
   "cell_type": "markdown",
   "metadata": {
    "_uuid": "e5544f73435319cd8ac16fbc8c0e3d6e2cbf7ede"
   },
   "source": [
    "Save model and weights"
   ]
  },
  {
   "cell_type": "code",
   "execution_count": 10,
   "metadata": {
    "_uuid": "66f66507c14a4b0b5ec40fb4989c05a3476ac2fe"
   },
   "outputs": [
    {
     "name": "stdout",
     "output_type": "stream",
     "text": [
      "Saved trained model at C:\\Users\\kristela\\Desktop\\AY\\DL\\project\\models\\keras_cnn_model.h5 \n"
     ]
    }
   ],
   "source": [
    "if not os.path.isdir(save_dir):\n",
    "    os.makedirs(save_dir)\n",
    "model_path = os.path.join(save_dir, model_name)\n",
    "model.save(model_path)\n",
    "print('Saved trained model at %s ' % model_path)"
   ]
  },
  {
   "cell_type": "markdown",
   "metadata": {
    "_uuid": "1c1609efbe52b3834678586f3e527155e94861b5"
   },
   "source": [
    "## 4. Evaluation"
   ]
  },
  {
   "cell_type": "code",
   "execution_count": 12,
   "metadata": {
    "_uuid": "672356f3ada19735ba4624adf33b0b7a8d87bfe2"
   },
   "outputs": [
    {
     "data": {
      "text/plain": [
       "<matplotlib.axes._subplots.AxesSubplot at 0x11e8b230940>"
      ]
     },
     "execution_count": 12,
     "metadata": {},
     "output_type": "execute_result"
    },
    {
     "data": {
      "image/png": "[encoded data removed]",
      "text/plain": [
       "<Figure size 432x288 with 1 Axes>"
      ]
     },
     "metadata": {
      "needs_background": "light"
     },
     "output_type": "display_data"
    },
    {
     "data": {
      "image/png": "[encoded data removed]",
      "text/plain": [
       "<Figure size 432x288 with 1 Axes>"
      ]
     },
     "metadata": {
      "needs_background": "light"
     },
     "output_type": "display_data"
    },
    {
     "data": {
      "image/png": "[encoded data removed]",
      "text/plain": [
       "<Figure size 432x288 with 1 Axes>"
      ]
     },
     "metadata": {
      "needs_background": "light"
     },
     "output_type": "display_data"
    }
   ],
   "source": [
    "history_df = pd.DataFrame(hist.history)\n",
    "history_df['val_f1'] = f1_metrics.val_f1s\n",
    "history_df['val_precision'] = f1_metrics.val_precisions\n",
    "history_df['val_recall'] = f1_metrics.val_recalls\n",
    "\n",
    "history_df[['loss', 'val_loss']].plot()\n",
    "history_df[['acc', 'val_acc']].plot()\n",
    "history_df[['val_f1', 'val_precision', 'val_recall']].plot()"
   ]
  },
  {
   "cell_type": "markdown",
   "metadata": {
    "_uuid": "81ef9f687914e8c851fc990bc5672b56bb907998"
   },
   "source": [
    "## 5. Submission"
   ]
  },
  {
   "cell_type": "code",
   "execution_count": 14,
   "metadata": {},
   "outputs": [
    {
     "name": "stdout",
     "output_type": "stream",
     "text": [
      "Loaded trained model at C:\\Users\\kristela\\Desktop\\AY\\DL\\project\\models\\keras_cnn_model.h5 \n"
     ]
    }
   ],
   "source": [
    "from tensorflow.keras.models import save_model, load_model\n",
    "model_path = os.path.join(save_dir, model_name)\n",
    "model = load_model(model_path)\n",
    "print('Loaded trained model at %s ' % model_path)"
   ]
  },
  {
   "cell_type": "code",
   "execution_count": null,
   "metadata": {},
   "outputs": [],
   "source": [
    "# Accuracy score for training data"
   ]
  },
  {
   "cell_type": "code",
   "execution_count": 20,
   "metadata": {},
   "outputs": [],
   "source": [
    "y_pred = model.predict(x_train)"
   ]
  },
  {
   "cell_type": "code",
   "execution_count": 23,
   "metadata": {},
   "outputs": [
    {
     "name": "stdout",
     "output_type": "stream",
     "text": [
      "0.9543196857854599\n"
     ]
    }
   ],
   "source": [
    "from sklearn.metrics import accuracy_score\n",
    "y_train2 =  y_train.argmax(axis=1)\n",
    "y_pred2 = y_pred.argmax(axis=1)\n",
    "print(accuracy_score(y_train2, y_pred2))"
   ]
  },
  {
   "cell_type": "code",
   "execution_count": 14,
   "metadata": {
    "_uuid": "30b9113771fa2e8b109925df04f6cadc31acb00d"
   },
   "outputs": [
    {
     "name": "stdout",
     "output_type": "stream",
     "text": [
      "(153730, 2)\n"
     ]
    },
    {
     "data": {
      "text/html": [
       "<div>\n",
       "<style scoped>\n",
       "    .dataframe tbody tr th:only-of-type {\n",
       "        vertical-align: middle;\n",
       "    }\n",
       "\n",
       "    .dataframe tbody tr th {\n",
       "        vertical-align: top;\n",
       "    }\n",
       "\n",
       "    .dataframe thead th {\n",
       "        text-align: right;\n",
       "    }\n",
       "</style>\n",
       "<table border=\"1\" class=\"dataframe\">\n",
       "  <thead>\n",
       "    <tr style=\"text-align: right;\">\n",
       "      <th></th>\n",
       "      <th>Id</th>\n",
       "      <th>Predicted</th>\n",
       "    </tr>\n",
       "  </thead>\n",
       "  <tbody>\n",
       "    <tr>\n",
       "      <th>0</th>\n",
       "      <td>b005e5b2-2c0b-11e9-bcad-06f10d5896c4</td>\n",
       "      <td>0</td>\n",
       "    </tr>\n",
       "    <tr>\n",
       "      <th>1</th>\n",
       "      <td>f2347cfe-2c11-11e9-bcad-06f10d5896c4</td>\n",
       "      <td>1</td>\n",
       "    </tr>\n",
       "    <tr>\n",
       "      <th>2</th>\n",
       "      <td>27cf8d26-2c0e-11e9-bcad-06f10d5896c4</td>\n",
       "      <td>0</td>\n",
       "    </tr>\n",
       "    <tr>\n",
       "      <th>3</th>\n",
       "      <td>f82f52c7-2c1d-11e9-bcad-06f10d5896c4</td>\n",
       "      <td>0</td>\n",
       "    </tr>\n",
       "    <tr>\n",
       "      <th>4</th>\n",
       "      <td>e133f50d-2c1c-11e9-bcad-06f10d5896c4</td>\n",
       "      <td>0</td>\n",
       "    </tr>\n",
       "  </tbody>\n",
       "</table>\n",
       "</div>"
      ],
      "text/plain": [
       "                                     Id  Predicted\n",
       "0  b005e5b2-2c0b-11e9-bcad-06f10d5896c4          0\n",
       "1  f2347cfe-2c11-11e9-bcad-06f10d5896c4          1\n",
       "2  27cf8d26-2c0e-11e9-bcad-06f10d5896c4          0\n",
       "3  f82f52c7-2c1d-11e9-bcad-06f10d5896c4          0\n",
       "4  e133f50d-2c1c-11e9-bcad-06f10d5896c4          0"
      ]
     },
     "execution_count": 14,
     "metadata": {},
     "output_type": "execute_result"
    }
   ],
   "source": [
    "y_test = model.predict(x_test)\n",
    "\n",
    "submission_df = pd.read_csv('./input/iwildcam-2019-fgvc6/sample_submission.csv')\n",
    "submission_df['Predicted'] = y_test.argmax(axis=1)\n",
    "print(submission_df.shape)\n",
    "submission_df.head()"
   ]
  },
  {
   "cell_type": "code",
   "execution_count": 15,
   "metadata": {
    "_uuid": "40d47171db3c3628643982074335e12ab1be87b8"
   },
   "outputs": [],
   "source": [
    "submission_df.to_csv('submission.csv',index=False)\n",
    "history_df.to_csv('history.csv', index=False)\n",
    "\n",
    "with open('history.json', 'w') as f:\n",
    "    json.dump(hist.history, f)"
   ]
  }
 ],
 "metadata": {
  "kernelspec": {
   "display_name": "Python 3",
   "language": "python",
   "name": "python3"
  },
  "language_info": {
   "codemirror_mode": {
    "name": "ipython",
    "version": 3
   },
   "file_extension": ".py",
   "mimetype": "text/x-python",
   "name": "python",
   "nbconvert_exporter": "python",
   "pygments_lexer": "ipython3",
   "version": "3.6.8"
  }
 },
 "nbformat": 4,
 "nbformat_minor": 1
}
